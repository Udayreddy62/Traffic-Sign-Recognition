from PyQt5 import QtWidgets,uic,QtCore, QtGui
from PyQt5.QtGui import QPixmap
import sys
import matplotlib.pyplot as pt
import os
import numpy as np
import pandas as pd
from keras.models import load_model
model = load_model("TSR.h5",compile=False)
# Classes of trafic signs
classes = { 0:'Speed limit (20km/h)',
            1:'Speed limit (30km/h)', 
            2:'Speed limit (50km/h)', 
            3:'Speed limit (60km/h)', 
            4:'Speed limit (70km/h)', 
            5:'Speed limit (80km/h)', 
            6:'End of speed limit (80km/h)', 
            7:'Speed limit (100km/h)', 
            8:'Speed limit (120km/h)', 
            9:'No passing', 
            10:'No passing veh over 3.5 tons', 
            11:'Right-of-way at intersection', 
            12:'Priority road', 
            13:'Yield', 
            14:'Stop', 
            15:'No vehicles', 
            16:'Veh > 3.5 tons prohibited', 
            17:'No entry', 
            18:'General caution', 
            19:'Dangerous curve left', 
            20:'Dangerous curve right', 
            21:'Double curve', 
            22:'Bumpy road', 
            23:'Slippery road', 
            24:'Road narrows on the right', 
            25:'Road work', 
            26:'Traffic signals', 
            27:'Pedestrians', 
            28:'Children crossing', 
            29:'Bicycles crossing', 
            30:'Beware of ice/snow',
            31:'Wild animals crossing', 
            32:'End speed + passing limits', 
            33:'Turn right ahead', 
            34:'Turn left ahead', 
            35:'Ahead only', 
            36:'Go straight or right', 
            37:'Go straight or left', 
            38:'Keep right', 
            39:'Keep left', 
            40:'Roundabout mandatory', 
            41:'End of no passing', 
            42:'End no passing veh > 3.5 tons' }
from PIL import Image
def test_on_img(img):
    data=[]
    image = Image.open(img)
    image = image.resize((30,30))
    data.append(np.array(image))
    X_test=np.array(data)
    Y_pred = np.argmax(model.predict(X_test), axis=-1)
    return Y_pred
def check():
    file = win.inp.text()
    if "\\" in file:
        file.replace('\\','/')
    prediction = test_on_img(file)
    s = [str(i) for i in prediction] 
    a = int("".join(s)) 
    win.ans.setText(classes[a])
def upload():
    win.im.clear()
    file = win.inp.text()
    if "\\" in file:
        file.replace('\\','/')
    img = QPixmap(file)
    win.im.setPixmap(img)
    

def getfile():
    fileName, _ = QtWidgets.QFileDialog.getOpenFileName(win, 'Single File', QtCore.QDir.rootPath() , '*.png')
    win.inp.setText(fileName)
qt = QtWidgets.QApplication([])
win = uic.loadUi("traffic.ui")
win.show()
win.upl.clicked.connect(upload)
win.brs.clicked.connect(getfile)
win.ch.clicked.connect(check)
sys.exit(qt.exec_())
